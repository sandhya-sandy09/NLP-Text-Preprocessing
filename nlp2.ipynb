{
 "cells": [
  {
   "cell_type": "code",
   "execution_count": 1,
   "id": "23a1aac7-33dd-42ef-86ab-f0145141bd6f",
   "metadata": {},
   "outputs": [],
   "source": [
    "import pandas as pd\n",
    "import numpy as np\n",
    "import matplotlib.pyplot as plt\n",
    "import seaborn as sns\n",
    "from sklearn.feature_extraction.text import TfidfVectorizer\n",
    "from nltk.corpus import stopwords\n",
    "from nltk.tokenize import word_tokenize\n",
    "from nltk.stem import PorterStemmer\n",
    "from nltk.stem import WordNetLemmatizer\n",
    "import string\n",
    "import nltk"
   ]
  },
  {
   "cell_type": "code",
   "execution_count": 2,
   "id": "8ff9f80d-b980-4c91-8279-57b4662553a4",
   "metadata": {},
   "outputs": [
    {
     "name": "stderr",
     "output_type": "stream",
     "text": [
      "[nltk_data] Downloading package punkt to\n",
      "[nltk_data]     C:\\Users\\ASUS\\AppData\\Roaming\\nltk_data...\n",
      "[nltk_data]   Package punkt is already up-to-date!\n",
      "[nltk_data] Downloading package stopwords to\n",
      "[nltk_data]     C:\\Users\\ASUS\\AppData\\Roaming\\nltk_data...\n",
      "[nltk_data]   Unzipping corpora\\stopwords.zip.\n",
      "[nltk_data] Downloading package wordnet to\n",
      "[nltk_data]     C:\\Users\\ASUS\\AppData\\Roaming\\nltk_data...\n"
     ]
    },
    {
     "data": {
      "text/plain": [
       "True"
      ]
     },
     "execution_count": 2,
     "metadata": {},
     "output_type": "execute_result"
    }
   ],
   "source": [
    "nltk.download('punkt')\n",
    "nltk.download('stopwords')\n",
    "nltk.download('wordnet')"
   ]
  },
  {
   "cell_type": "code",
   "execution_count": 4,
   "id": "d78fc36f-dbad-49bb-9784-fcb815a15ca8",
   "metadata": {},
   "outputs": [],
   "source": [
    "fake_df = pd.read_csv('Fake.csv')\n",
    "true_df = pd.read_csv('True.csv')"
   ]
  },
  {
   "cell_type": "code",
   "execution_count": 5,
   "id": "b106071b-7e53-43fa-8402-2c3f7a7f519a",
   "metadata": {},
   "outputs": [],
   "source": [
    "fake_df['label'] = 0  # Label fake news as 0\n",
    "true_df['label'] = 1  # Label true news as 1"
   ]
  },
  {
   "cell_type": "code",
   "execution_count": 6,
   "id": "c1ffa688-ef78-41fe-b63a-551e381d315c",
   "metadata": {},
   "outputs": [],
   "source": [
    "combined_df = pd.concat([fake_df, true_df], ignore_index=True)"
   ]
  },
  {
   "cell_type": "code",
   "execution_count": 7,
   "id": "4ee0bc5c-2a3d-4630-a5ff-da52906a61e1",
   "metadata": {},
   "outputs": [
    {
     "name": "stdout",
     "output_type": "stream",
     "text": [
      "(44898, 5)\n",
      "                                               title  \\\n",
      "0   Donald Trump Sends Out Embarrassing New Year’...   \n",
      "1   Drunk Bragging Trump Staffer Started Russian ...   \n",
      "2   Sheriff David Clarke Becomes An Internet Joke...   \n",
      "3   Trump Is So Obsessed He Even Has Obama’s Name...   \n",
      "4   Pope Francis Just Called Out Donald Trump Dur...   \n",
      "\n",
      "                                                text subject  \\\n",
      "0  Donald Trump just couldn t wish all Americans ...    News   \n",
      "1  House Intelligence Committee Chairman Devin Nu...    News   \n",
      "2  On Friday, it was revealed that former Milwauk...    News   \n",
      "3  On Christmas day, Donald Trump announced that ...    News   \n",
      "4  Pope Francis used his annual Christmas Day mes...    News   \n",
      "\n",
      "                date  label  \n",
      "0  December 31, 2017      0  \n",
      "1  December 31, 2017      0  \n",
      "2  December 30, 2017      0  \n",
      "3  December 29, 2017      0  \n",
      "4  December 25, 2017      0  \n",
      "                                                   title  \\\n",
      "44893  'Fully committed' NATO backs new U.S. approach...   \n",
      "44894  LexisNexis withdrew two products from Chinese ...   \n",
      "44895  Minsk cultural hub becomes haven from authorities   \n",
      "44896  Vatican upbeat on possibility of Pope Francis ...   \n",
      "44897  Indonesia to buy $1.14 billion worth of Russia...   \n",
      "\n",
      "                                                    text    subject  \\\n",
      "44893  BRUSSELS (Reuters) - NATO allies on Tuesday we...  worldnews   \n",
      "44894  LONDON (Reuters) - LexisNexis, a provider of l...  worldnews   \n",
      "44895  MINSK (Reuters) - In the shadow of disused Sov...  worldnews   \n",
      "44896  MOSCOW (Reuters) - Vatican Secretary of State ...  worldnews   \n",
      "44897  JAKARTA (Reuters) - Indonesia will buy 11 Sukh...  worldnews   \n",
      "\n",
      "                   date  label  \n",
      "44893  August 22, 2017       1  \n",
      "44894  August 22, 2017       1  \n",
      "44895  August 22, 2017       1  \n",
      "44896  August 22, 2017       1  \n",
      "44897  August 22, 2017       1  \n",
      "label\n",
      "0    23481\n",
      "1    21417\n",
      "Name: count, dtype: int64\n"
     ]
    }
   ],
   "source": [
    "print(combined_df.shape)\n",
    "print(combined_df.head())\n",
    "print(combined_df.tail())\n",
    "print(combined_df['label'].value_counts())"
   ]
  },
  {
   "cell_type": "code",
   "execution_count": 8,
   "id": "a95ee6a5-9b44-43cd-893c-5de6ab09c4be",
   "metadata": {},
   "outputs": [
    {
     "data": {
      "image/png": "[encoded data removed]",
      "text/plain": [
       "<Figure size 640x480 with 1 Axes>"
      ]
     },
     "metadata": {},
     "output_type": "display_data"
    }
   ],
   "source": [
    "sns.countplot(x='label', data=combined_df)\n",
    "plt.title('Distribution of Labels')\n",
    "plt.show()"
   ]
  },
  {
   "cell_type": "code",
   "execution_count": 9,
   "id": "8c652b43-ff84-4826-bab2-e7b402781ca7",
   "metadata": {},
   "outputs": [],
   "source": [
    "def clean_text(text):\n",
    "    # Tokenization\n",
    "    tokens = word_tokenize(text)\n",
    "    # Convert to lower case\n",
    "    tokens = [word.lower() for word in tokens]\n",
    "    # Remove punctuation\n",
    "    tokens = [word for word in tokens if word.isalpha()]\n",
    "    # Remove stop words\n",
    "    stop_words = set(stopwords.words('english'))\n",
    "    tokens = [word for word in tokens if word not in stop_words]\n",
    "    # Stemming\n",
    "    ps = PorterStemmer()\n",
    "    tokens = [ps.stem(word) for word in tokens]\n",
    "    # Or use Lemmatization\n",
    "    # lemmatizer = WordNetLemmatizer()\n",
    "    # tokens = [lemmatizer.lemmatize(word) for word in tokens]\n",
    "    return ' '.join(tokens)\n",
    "\n",
    "combined_df['cleaned_text'] = combined_df['text'].apply(clean_text)"
   ]
  },
  {
   "cell_type": "code",
   "execution_count": 10,
   "id": "d0d96b22-5fff-488f-a373-9c39f3a5c684",
   "metadata": {},
   "outputs": [],
   "source": [
    "tfidf = TfidfVectorizer(max_features=1000)\n",
    "X = tfidf.fit_transform(combined_df['cleaned_text'])\n",
    "y = combined_df['label']"
   ]
  },
  {
   "cell_type": "code",
   "execution_count": 13,
   "id": "11e52380-ecf6-4445-b762-fb72122911b7",
   "metadata": {},
   "outputs": [
    {
     "name": "stdout",
     "output_type": "stream",
     "text": [
      "   abl  abort  absolut  abus    accept  access    accord  account  accus  \\\n",
      "0  0.0    0.0      0.0   0.0  0.047241     0.0  0.000000      0.0    0.0   \n",
      "1  0.0    0.0      0.0   0.0  0.000000     0.0  0.140165      0.0    0.0   \n",
      "2  0.0    0.0      0.0   0.0  0.000000     0.0  0.000000      0.0    0.0   \n",
      "3  0.0    0.0      0.0   0.0  0.000000     0.0  0.000000      0.0    0.0   \n",
      "4  0.0    0.0      0.0   0.0  0.079085     0.0  0.000000      0.0    0.0   \n",
      "\n",
      "   across  ...  worker     world  worri     would     wrong  wrote      year  \\\n",
      "0     0.0  ...     0.0  0.000000    0.0  0.042552  0.050266    0.0  0.395802   \n",
      "1     0.0  ...     0.0  0.075744    0.0  0.000000  0.000000    0.0  0.000000   \n",
      "2     0.0  ...     0.0  0.000000    0.0  0.000000  0.000000    0.0  0.000000   \n",
      "3     0.0  ...     0.0  0.000000    0.0  0.082508  0.000000    0.0  0.031977   \n",
      "4     0.0  ...     0.0  0.059304    0.0  0.000000  0.000000    0.0  0.000000   \n",
      "\n",
      "        yet      york     young  \n",
      "0  0.000000  0.000000  0.000000  \n",
      "1  0.000000  0.168973  0.000000  \n",
      "2  0.000000  0.000000  0.000000  \n",
      "3  0.000000  0.000000  0.000000  \n",
      "4  0.069059  0.000000  0.081981  \n",
      "\n",
      "[5 rows x 1000 columns]\n"
     ]
    }
   ],
   "source": [
    "tfidf_df = pd.DataFrame(X.toarray(), columns=tfidf.get_feature_names_out())\n",
    "print(tfidf_df.head())"
   ]
  },
  {
   "cell_type": "code",
   "execution_count": null,
   "id": "46e201fb-999a-4e4d-b301-9c6e111d1d9d",
   "metadata": {},
   "outputs": [],
   "source": []
  }
 ],
 "metadata": {
  "kernelspec": {
   "display_name": "Python 3 (ipykernel)",
   "language": "python",
   "name": "python3"
  },
  "language_info": {
   "codemirror_mode": {
    "name": "ipython",
    "version": 3
   },
   "file_extension": ".py",
   "mimetype": "text/x-python",
   "name": "python",
   "nbconvert_exporter": "python",
   "pygments_lexer": "ipython3",
   "version": "3.11.7"
  }
 },
 "nbformat": 4,
 "nbformat_minor": 5
}
